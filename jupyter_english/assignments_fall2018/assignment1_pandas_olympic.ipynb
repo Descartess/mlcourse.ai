{
 "cells": [
  {
   "cell_type": "markdown",
   "metadata": {},
   "source": [
    "<center>\n",
    "<img src=\"../../img/ods_stickers.jpg\" />\n",
    "    \n",
    "## [mlcourse.ai](mlcourse.ai) – Open Machine Learning Course \n",
    "Author: Arina Lopukhova (@erynn). Edited by [Yury Kashnitskiy](https://yorko.github.io) (@yorko). This material is subject to the terms and conditions of the [Creative Commons CC BY-NC-SA 4.0](https://creativecommons.org/licenses/by-nc-sa/4.0/) license. Free use is permitted for any non-commercial purpose."
   ]
  },
  {
   "cell_type": "markdown",
   "metadata": {},
   "source": [
    "<h1><center>Assignment #1. Fall 2018</center></h1>\n",
    "<h2><center>Exploratory data analysis of Olympic games with Pandas</center></h2>"
   ]
  },
  {
   "cell_type": "markdown",
   "metadata": {},
   "source": [
    "__There are ten questions about [120 years of Olympic history: athletes and results](https://www.kaggle.com/heesoo37/120-years-of-olympic-history-athletes-and-results/version/2) dataset in this task. Your task is to fill in the missing Python code and choose answers in [this web-form](https://docs.google.com/forms/d/179HYvlF_0x435CWdu2aOtR9a3flh0YCQXXNXhXaKw2M).__"
   ]
  },
  {
   "cell_type": "markdown",
   "metadata": {},
   "source": [
    "Download the file `athlete_events.csv` from [Kaggle page](https://www.kaggle.com/heesoo37/120-years-of-olympic-history-athletes-and-results). The dataset has the following features (copied from Kaggle):\n",
    "\n",
    "- __ID__ - Unique number for each athlete\n",
    "- __Name__ - Athlete's name\n",
    "- __Sex__ - M or F\n",
    "- __Age__ - Integer\n",
    "- __Height__ - In centimeters\n",
    "- __Weight__ - In kilograms\n",
    "- __Team__ - Team name\n",
    "- __NOC__ - National Olympic Committee 3-letter code\n",
    "- __Games__ - Year and season\n",
    "- __Year__ - Integer\n",
    "- __Season__ - Summer or Winter\n",
    "- __City__ - Host city\n",
    "- __Sport__ - Sport\n",
    "- __Event__ - Event\n",
    "- __Medal__ - Gold, Silver, Bronze, or NA"
   ]
  },
  {
   "cell_type": "code",
   "execution_count": 2,
   "metadata": {},
   "outputs": [],
   "source": [
    "import pandas as pd"
   ]
  },
  {
   "cell_type": "code",
   "execution_count": 3,
   "metadata": {},
   "outputs": [],
   "source": [
    "# Change the path to the dataset file if needed. \n",
    "PATH = '../../data/athlete_events.csv'"
   ]
  },
  {
   "cell_type": "code",
   "execution_count": 29,
   "metadata": {},
   "outputs": [],
   "source": [
    "data = pd.read_csv(PATH)\n"
   ]
  },
  {
   "cell_type": "markdown",
   "metadata": {},
   "source": [
    "__1. How old were the youngest male and female participants of the 1996 Olympics?__\n",
    "\n",
    "- 16 and 15\n",
    "- 14 and 12 \n",
    "- 16 and 12\n",
    "- 13 and 11"
   ]
  },
  {
   "cell_type": "code",
   "execution_count": 30,
   "metadata": {},
   "outputs": [
    {
     "name": "stdout",
     "output_type": "stream",
     "text": [
      "14.0\n",
      "12.0\n"
     ]
    }
   ],
   "source": [
    "male_participants = data.query(\"Games == '1996 Summer' & Sex == 'M' \")\n",
    "\n",
    "female_participants = data.query(\"Games == '1996 Summer' & Sex == 'F' \")\n",
    "\n",
    "print(male_participants[\"Age\"].min())\n",
    "\n",
    "print(female_participants[\"Age\"].min())"
   ]
  },
  {
   "cell_type": "markdown",
   "metadata": {},
   "source": [
    "__2. What was the percentage of male gymnasts among all the male participants of the 2000 Olympics? Round the answer to the first decimal.__\n",
    "\n",
    "*Hint:* here and further if needed drop duplicated sportsmen to count only unique ones. \n",
    "\n",
    "- 0.2\n",
    "- 1.5 \n",
    "- 2.5\n",
    "- 7.7"
   ]
  },
  {
   "cell_type": "code",
   "execution_count": 95,
   "metadata": {},
   "outputs": [
    {
     "data": {
      "text/plain": [
       "1.5"
      ]
     },
     "execution_count": 95,
     "metadata": {},
     "output_type": "execute_result"
    }
   ],
   "source": [
    "# You comale_participants = data.query(\"Games == '2000 Summer' & Sex == 'M'\").ID.unique()\n",
    "\n",
    "male_gymnastics = data.query(\"Year == 2000 & Sex == 'M' & Sport == 'Gymnastics'\").drop_duplicates(['ID'], keep='last')\n",
    "\n",
    "all_guys_2000 = data.query(\"Year == 2000 & Sex == 'M'\").drop_duplicates(['ID'], keep='last')\n",
    "\n",
    "round((len(male_gymnastics)/ len(all_guys_2000))*100,1)"
   ]
  },
  {
   "cell_type": "markdown",
   "metadata": {},
   "source": [
    "__3. What are the mean and standard deviation of height for female basketball players participated in the 2000 Olympics? Round the answer to the first decimal.__\n",
    "\n",
    "- 178.5 and 7.2\n",
    "- 179.4 and 10\n",
    "- 180.7 and 6.7\n",
    "- 182.4 and 9.1 "
   ]
  },
  {
   "cell_type": "code",
   "execution_count": 96,
   "metadata": {},
   "outputs": [
    {
     "name": "stdout",
     "output_type": "stream",
     "text": [
      "182.4\n",
      "9.1\n"
     ]
    }
   ],
   "source": [
    "female_basketball = data.query(\"Games == '2000 Summer' & Sex == 'F' & Sport == 'Basketball'\")\n",
    "print(round(female_basketball.Height.mean(),1))\n",
    "print(round(female_basketball.Height.std(),1))"
   ]
  },
  {
   "cell_type": "markdown",
   "metadata": {},
   "source": [
    "__4. Find a sportsperson participated in the 2002 Olympics, with the highest weight among other participants of the same Olympics. What sport did he or she do?__\n",
    "\n",
    "- Judo\n",
    "- Bobsleigh \n",
    "- Weightlifting\n",
    "- Boxing"
   ]
  },
  {
   "cell_type": "code",
   "execution_count": 53,
   "metadata": {},
   "outputs": [
    {
     "data": {
      "text/plain": [
       "'Bobsleigh'"
      ]
     },
     "execution_count": 53,
     "metadata": {},
     "output_type": "execute_result"
    }
   ],
   "source": [
    "oly_2002 =  data.query(\"Year == 2002\")\n",
    "oly_2002.sort_values(by=\"Weight\", ascending=False).iloc[0].Sport\n"
   ]
  },
  {
   "cell_type": "markdown",
   "metadata": {},
   "source": [
    "__5. How many times did Pawe Abratkiewicz participate in the Olympics held in different years?__\n",
    "\n",
    "- 0\n",
    "- 1 \n",
    "- 2\n",
    "- 3 "
   ]
  },
  {
   "cell_type": "code",
   "execution_count": 90,
   "metadata": {},
   "outputs": [
    {
     "data": {
      "text/plain": [
       "3"
      ]
     },
     "execution_count": 90,
     "metadata": {},
     "output_type": "execute_result"
    }
   ],
   "source": [
    "years = data.query(\"Name == 'Pawe Abratkiewicz'\").drop_duplicates(['Year'],keep='last')\n",
    "years.Year.count()"
   ]
  },
  {
   "cell_type": "markdown",
   "metadata": {},
   "source": [
    "__6. How many silver medals in tennis did Australia win at the 2000 Olympics?__\n",
    "\n",
    "- 0\n",
    "- 1 \n",
    "- 2 \n",
    "- 3 "
   ]
  },
  {
   "cell_type": "code",
   "execution_count": 89,
   "metadata": {},
   "outputs": [
    {
     "data": {
      "text/plain": [
       "2"
      ]
     },
     "execution_count": 89,
     "metadata": {},
     "output_type": "execute_result"
    }
   ],
   "source": [
    "data.query(\"Team == 'Australia' & Year == 2000 & Sport == 'Tennis' & Medal == 'Silver'\").Medal.count()"
   ]
  },
  {
   "cell_type": "markdown",
   "metadata": {},
   "source": [
    "__7. Is it true that Switzerland won fewer medals than Serbia at the 2016 Olympics? Do not consider NaN values in _Medal_ column.__ \n",
    "\n",
    "- Yes \n",
    "- No"
   ]
  },
  {
   "cell_type": "code",
   "execution_count": 88,
   "metadata": {},
   "outputs": [
    {
     "name": "stdout",
     "output_type": "stream",
     "text": [
      "-----------Switzerland-----------\n",
      "10\n",
      "-----------Serbia----------------\n",
      "52\n"
     ]
    }
   ],
   "source": [
    "print(\"-----------Switzerland-----------\")\n",
    "print(data.query(\"Year == 2016 &  Team == 'Switzerland'\").drop_duplicates(['ID'], keep='last').Medal.count())\n",
    "print(\"-----------Serbia----------------\")\n",
    "print(data.query(\"Year == 2016 &  Team == 'Serbia'\").drop_duplicates(['ID'], keep='last').Medal.count())"
   ]
  },
  {
   "cell_type": "markdown",
   "metadata": {},
   "source": [
    "__8. What age category did the fewest and the most participants of the 2014 Olympics belong to?__\n",
    "- [45-55] and [25-35) correspondingly\n",
    "- [45-55] and [15-25) correspondingly\n",
    "- [35-45] and [25-35) correspondingly\n",
    "- [45-55] and [35-45) correspondingly"
   ]
  },
  {
   "cell_type": "code",
   "execution_count": 112,
   "metadata": {},
   "outputs": [
    {
     "data": {
      "text/html": [
       "<div>\n",
       "<style scoped>\n",
       "    .dataframe tbody tr th:only-of-type {\n",
       "        vertical-align: middle;\n",
       "    }\n",
       "\n",
       "    .dataframe tbody tr th {\n",
       "        vertical-align: top;\n",
       "    }\n",
       "\n",
       "    .dataframe thead th {\n",
       "        text-align: right;\n",
       "    }\n",
       "</style>\n",
       "<table border=\"1\" class=\"dataframe\">\n",
       "  <thead>\n",
       "    <tr style=\"text-align: right;\">\n",
       "      <th></th>\n",
       "      <th>ID</th>\n",
       "      <th>Name</th>\n",
       "      <th>Sex</th>\n",
       "      <th>Age</th>\n",
       "      <th>Height</th>\n",
       "      <th>Weight</th>\n",
       "      <th>Team</th>\n",
       "      <th>NOC</th>\n",
       "      <th>Games</th>\n",
       "      <th>Year</th>\n",
       "      <th>Season</th>\n",
       "      <th>City</th>\n",
       "      <th>Sport</th>\n",
       "      <th>Event</th>\n",
       "      <th>Medal</th>\n",
       "    </tr>\n",
       "    <tr>\n",
       "      <th>Age</th>\n",
       "      <th></th>\n",
       "      <th></th>\n",
       "      <th></th>\n",
       "      <th></th>\n",
       "      <th></th>\n",
       "      <th></th>\n",
       "      <th></th>\n",
       "      <th></th>\n",
       "      <th></th>\n",
       "      <th></th>\n",
       "      <th></th>\n",
       "      <th></th>\n",
       "      <th></th>\n",
       "      <th></th>\n",
       "      <th></th>\n",
       "    </tr>\n",
       "  </thead>\n",
       "  <tbody>\n",
       "    <tr>\n",
       "      <th>(15, 25]</th>\n",
       "      <td>2412</td>\n",
       "      <td>2412</td>\n",
       "      <td>2412</td>\n",
       "      <td>2412</td>\n",
       "      <td>2396</td>\n",
       "      <td>2254</td>\n",
       "      <td>2412</td>\n",
       "      <td>2412</td>\n",
       "      <td>2412</td>\n",
       "      <td>2412</td>\n",
       "      <td>2412</td>\n",
       "      <td>2412</td>\n",
       "      <td>2412</td>\n",
       "      <td>2412</td>\n",
       "      <td>250</td>\n",
       "    </tr>\n",
       "    <tr>\n",
       "      <th>(25, 35]</th>\n",
       "      <td>2281</td>\n",
       "      <td>2281</td>\n",
       "      <td>2281</td>\n",
       "      <td>2281</td>\n",
       "      <td>2277</td>\n",
       "      <td>2227</td>\n",
       "      <td>2281</td>\n",
       "      <td>2281</td>\n",
       "      <td>2281</td>\n",
       "      <td>2281</td>\n",
       "      <td>2281</td>\n",
       "      <td>2281</td>\n",
       "      <td>2281</td>\n",
       "      <td>2281</td>\n",
       "      <td>316</td>\n",
       "    </tr>\n",
       "    <tr>\n",
       "      <th>(35, 45]</th>\n",
       "      <td>184</td>\n",
       "      <td>184</td>\n",
       "      <td>184</td>\n",
       "      <td>184</td>\n",
       "      <td>184</td>\n",
       "      <td>181</td>\n",
       "      <td>184</td>\n",
       "      <td>184</td>\n",
       "      <td>184</td>\n",
       "      <td>184</td>\n",
       "      <td>184</td>\n",
       "      <td>184</td>\n",
       "      <td>184</td>\n",
       "      <td>184</td>\n",
       "      <td>28</td>\n",
       "    </tr>\n",
       "    <tr>\n",
       "      <th>(45, 55]</th>\n",
       "      <td>4</td>\n",
       "      <td>4</td>\n",
       "      <td>4</td>\n",
       "      <td>4</td>\n",
       "      <td>4</td>\n",
       "      <td>3</td>\n",
       "      <td>4</td>\n",
       "      <td>4</td>\n",
       "      <td>4</td>\n",
       "      <td>4</td>\n",
       "      <td>4</td>\n",
       "      <td>4</td>\n",
       "      <td>4</td>\n",
       "      <td>4</td>\n",
       "      <td>0</td>\n",
       "    </tr>\n",
       "  </tbody>\n",
       "</table>\n",
       "</div>"
      ],
      "text/plain": [
       "            ID  Name   Sex   Age  Height  Weight  Team   NOC  Games  Year  \\\n",
       "Age                                                                         \n",
       "(15, 25]  2412  2412  2412  2412    2396    2254  2412  2412   2412  2412   \n",
       "(25, 35]  2281  2281  2281  2281    2277    2227  2281  2281   2281  2281   \n",
       "(35, 45]   184   184   184   184     184     181   184   184    184   184   \n",
       "(45, 55]     4     4     4     4       4       3     4     4      4     4   \n",
       "\n",
       "          Season  City  Sport  Event  Medal  \n",
       "Age                                          \n",
       "(15, 25]    2412  2412   2412   2412    250  \n",
       "(25, 35]    2281  2281   2281   2281    316  \n",
       "(35, 45]     184   184    184    184     28  \n",
       "(45, 55]       4     4      4      4      0  "
      ]
     },
     "execution_count": 112,
     "metadata": {},
     "output_type": "execute_result"
    }
   ],
   "source": [
    "oly_2014 = data.query(\"Year == 2014\")\n",
    "\n",
    "ranges = [15,25,35,45,55]\n",
    "\n",
    "oly_2014.groupby(pd.cut(oly_2014.Age,ranges)).count()"
   ]
  },
  {
   "cell_type": "markdown",
   "metadata": {},
   "source": [
    "__9. Is it true that there were Summer Olympics held in Lake Placid? Is it true that there were Winter Olympics held in Sankt Moritz?__\n",
    "\n",
    "- Yes, Yes\n",
    "- Yes, No\n",
    "- No, Yes \n",
    "- No, No "
   ]
  },
  {
   "cell_type": "code",
   "execution_count": 102,
   "metadata": {},
   "outputs": [
    {
     "name": "stdout",
     "output_type": "stream",
     "text": [
      "True\n",
      "False\n"
     ]
    }
   ],
   "source": [
    "print(data.query(\"City == 'Lake Placid' & Season == 'Summer'\").empty)\n",
    "print(data.query(\"City == 'Sankt Moritz' & Season == 'Winter'\").empty)\n",
    "\n",
    "# No , Yes"
   ]
  },
  {
   "cell_type": "markdown",
   "metadata": {},
   "source": [
    "__10. What is the absolute difference between the number of unique sports at the 1995 Olympics and 2016 Olympics?__\n",
    "\n",
    "- 16\n",
    "- 24\n",
    "- 26\n",
    "- 34"
   ]
  },
  {
   "cell_type": "code",
   "execution_count": 97,
   "metadata": {},
   "outputs": [
    {
     "data": {
      "text/plain": [
       "34"
      ]
     },
     "execution_count": 97,
     "metadata": {},
     "output_type": "execute_result"
    }
   ],
   "source": [
    "data.query(\"Year == 2016\").drop_duplicates(['Sport'], keep='last').Sport.count()"
   ]
  },
  {
   "cell_type": "code",
   "execution_count": 108,
   "metadata": {},
   "outputs": [
    {
     "data": {
      "text/plain": [
       "True"
      ]
     },
     "execution_count": 108,
     "metadata": {},
     "output_type": "execute_result"
    }
   ],
   "source": [
    "data.query(\"Year == 1995\").empty"
   ]
  },
  {
   "cell_type": "code",
   "execution_count": null,
   "metadata": {},
   "outputs": [],
   "source": []
  }
 ],
 "metadata": {
  "kernelspec": {
   "display_name": "Python 3",
   "language": "python",
   "name": "python3"
  },
  "language_info": {
   "codemirror_mode": {
    "name": "ipython",
    "version": 3
   },
   "file_extension": ".py",
   "mimetype": "text/x-python",
   "name": "python",
   "nbconvert_exporter": "python",
   "pygments_lexer": "ipython3",
   "version": "3.6.5"
  }
 },
 "nbformat": 4,
 "nbformat_minor": 2
}
